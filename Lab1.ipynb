{
  "cells": [
    {
      "cell_type": "markdown",
      "metadata": {
        "id": "view-in-github",
        "colab_type": "text"
      },
      "source": [
        "<a href=\"https://colab.research.google.com/github/sizday/NeuralNetworksCource/blob/master/Lab1.ipynb\" target=\"_parent\"><img src=\"https://colab.research.google.com/assets/colab-badge.svg\" alt=\"Open In Colab\"/></a>"
      ]
    },
    {
      "cell_type": "markdown",
      "metadata": {
        "id": "cBopleCS-XfZ"
      },
      "source": [
        "# Лабораторная работа 1\n"
      ]
    },
    {
      "cell_type": "markdown",
      "metadata": {
        "id": "7rZ7DwN3-dUQ"
      },
      "source": [
        "1) Берем датасет, модель и обучаем с 0 (рандомная инициализация весов)\n",
        "\n",
        "2) Берем датасет, модель и обучаем с претрейна ImageNet\n",
        "\n",
        "3) Берем претрейн ImageNet и строим классификатор второго уровня на его фичах"
      ]
    },
    {
      "cell_type": "markdown",
      "metadata": {
        "id": "xxAwrGJIzN-q"
      },
      "source": [
        "## Data"
      ]
    },
    {
      "cell_type": "code",
      "execution_count": null,
      "metadata": {
        "id": "iYlYetysuXZg"
      },
      "outputs": [],
      "source": [
        "import pandas as pd\n",
        "import os\n",
        "from random import seed\n",
        "from skimage.transform import resize\n",
        "from skimage.io import imread\n",
        "import numpy as np\n",
        "from sklearn import utils\n",
        "import matplotlib.pyplot as plt\n",
        "from sklearn import svm\n",
        "import torch\n",
        "from tensorflow import keras\n",
        "from sklearn.model_selection import GridSearchCV, train_test_split\n",
        "from tensorflow.python.client import device_lib\n",
        "print(device_lib.list_local_devices())"
      ]
    },
    {
      "cell_type": "code",
      "execution_count": null,
      "metadata": {
        "id": "UDKdMehzrMkx"
      },
      "outputs": [],
      "source": [
        "from google.colab import drive\n",
        "drive.mount('/gdrive')\n",
        "!cp /gdrive/MyDrive/small.zip .\n",
        "!unzip small.zip -d small_zip"
      ]
    },
    {
      "cell_type": "code",
      "execution_count": null,
      "metadata": {
        "id": "VEEqIYZ_1yVp"
      },
      "outputs": [],
      "source": [
        "DATA_PATH_TRAIN = f\"/content/small_zip/small/train\"\n",
        "DATA_PATH_VALID = f\"/content/small_zip/small/validation\""
      ]
    },
    {
      "cell_type": "code",
      "execution_count": null,
      "metadata": {
        "colab": {
          "base_uri": "https://localhost:8080/"
        },
        "id": "v8irUIfI08q-",
        "outputId": "3a454fbc-8d04-4be5-b283-6b71f356b082"
      },
      "outputs": [
        {
          "name": "stdout",
          "output_type": "stream",
          "text": [
            "Found 512 files belonging to 2 classes.\n",
            "Using 410 files for training.\n"
          ]
        }
      ],
      "source": [
        "train_ds = keras.utils.image_dataset_from_directory(\n",
        "  DATA_PATH_TRAIN,\n",
        "  validation_split=0.2,\n",
        "  subset=\"training\",\n",
        "  seed=1001,\n",
        "  image_size=(224, 224))"
      ]
    },
    {
      "cell_type": "code",
      "execution_count": null,
      "metadata": {
        "colab": {
          "base_uri": "https://localhost:8080/"
        },
        "id": "Uj1zDkQ82TC3",
        "outputId": "1280634c-0a1e-48e1-f9aa-b98830a5761d"
      },
      "outputs": [
        {
          "name": "stdout",
          "output_type": "stream",
          "text": [
            "Found 256 files belonging to 2 classes.\n",
            "Using 51 files for validation.\n"
          ]
        }
      ],
      "source": [
        "valid_ds = keras.utils.image_dataset_from_directory(\n",
        "  DATA_PATH_VALID,\n",
        "  validation_split=0.2,\n",
        "  subset=\"validation\",\n",
        "  seed=1001,\n",
        "  image_size=(224, 224))"
      ]
    },
    {
      "cell_type": "markdown",
      "metadata": {
        "id": "wNnV0Met1G_H"
      },
      "source": [
        "## Pretrained model"
      ]
    },
    {
      "cell_type": "code",
      "execution_count": null,
      "metadata": {
        "id": "KNFsNXeD2dh-"
      },
      "outputs": [],
      "source": [
        "model = keras.applications.resnet50.ResNet50(\n",
        "    weights=None,\n",
        "    input_shape=(224, 224, 3),\n",
        "    pooling=None,\n",
        "    classes=2,\n",
        ")"
      ]
    },
    {
      "cell_type": "code",
      "execution_count": null,
      "metadata": {
        "id": "LxfPQZTH2lMO"
      },
      "outputs": [],
      "source": [
        "model.compile(optimizer='adam',\n",
        "              loss=keras.losses.SparseCategoricalCrossentropy(from_logits=True),\n",
        "              metrics=['accuracy'])"
      ]
    },
    {
      "cell_type": "code",
      "execution_count": null,
      "metadata": {
        "id": "Np4PyCNk4c9D"
      },
      "outputs": [],
      "source": [
        "def draw_accuracy(history):\n",
        "  plt.plot(history.history['accuracy'])\n",
        "  plt.plot(history.history['val_accuracy'])\n",
        "  plt.title('model accuracy')\n",
        "  plt.ylabel('accuracy')\n",
        "  plt.xlabel('epoch')\n",
        "  plt.legend(['train', 'test'], loc='upper left')\n",
        "  plt.show()\n",
        "\n",
        "def draw_loss(history):\n",
        "  plt.plot(history.history['loss'])\n",
        "  plt.plot(history.history['val_loss'])\n",
        "  plt.title('model loss')\n",
        "  plt.ylabel('loss')\n",
        "  plt.xlabel('epoch')\n",
        "  plt.legend(['train', 'test'], loc='upper left')\n",
        "  plt.show()"
      ]
    },
    {
      "cell_type": "code",
      "execution_count": null,
      "metadata": {
        "colab": {
          "background_save": true,
          "base_uri": "https://localhost:8080/"
        },
        "id": "R0qpIrkg2n7F",
        "outputId": "0c2dcd6a-21ed-406e-97e6-c09ddbb87fc0"
      },
      "outputs": [
        {
          "name": "stdout",
          "output_type": "stream",
          "text": [
            "Epoch 1/10\n"
          ]
        },
        {
          "name": "stderr",
          "output_type": "stream",
          "text": [
            "/usr/local/lib/python3.7/dist-packages/tensorflow/python/util/dispatch.py:1082: UserWarning: \"`sparse_categorical_crossentropy` received `from_logits=True`, but the `output` argument was produced by a sigmoid or softmax activation and thus does not represent logits. Was this intended?\"\n",
            "  return dispatch_target(*args, **kwargs)\n"
          ]
        },
        {
          "name": "stdout",
          "output_type": "stream",
          "text": [
            "13/13 [==============================] - 136s 10s/step - loss: 2.7116 - accuracy: 0.4829 - val_loss: 3.9847 - val_accuracy: 0.5686\n",
            "Epoch 2/10\n",
            "13/13 [==============================] - 118s 9s/step - loss: 0.9257 - accuracy: 0.5512 - val_loss: 65.0468 - val_accuracy: 0.5686\n",
            "Epoch 3/10\n",
            "13/13 [==============================] - 112s 9s/step - loss: 0.8800 - accuracy: 0.6976 - val_loss: 8.3995 - val_accuracy: 0.5294\n",
            "Epoch 4/10\n",
            "13/13 [==============================] - 119s 9s/step - loss: 0.5800 - accuracy: 0.7780 - val_loss: 10.8359 - val_accuracy: 0.5686\n",
            "Epoch 5/10\n",
            "13/13 [==============================] - 115s 9s/step - loss: 0.4065 - accuracy: 0.8585 - val_loss: 0.6909 - val_accuracy: 0.6275\n",
            "Epoch 6/10\n",
            "13/13 [==============================] - 115s 9s/step - loss: 0.3314 - accuracy: 0.8610 - val_loss: 1.1469 - val_accuracy: 0.4314\n",
            "Epoch 7/10\n",
            "13/13 [==============================] - 115s 9s/step - loss: 0.2951 - accuracy: 0.8756 - val_loss: 1.0317 - val_accuracy: 0.3922\n",
            "Epoch 8/10\n",
            "13/13 [==============================] - 118s 9s/step - loss: 0.3213 - accuracy: 0.8488 - val_loss: 0.7100 - val_accuracy: 0.6275\n",
            "Epoch 9/10\n",
            "13/13 [==============================] - 117s 9s/step - loss: 0.2509 - accuracy: 0.8976 - val_loss: 0.7964 - val_accuracy: 0.6275\n",
            "Epoch 10/10\n",
            "13/13 [==============================] - 115s 9s/step - loss: 0.1823 - accuracy: 0.9293 - val_loss: 0.7184 - val_accuracy: 0.7059\n"
          ]
        }
      ],
      "source": [
        "history = model.fit(train_ds, validation_data=valid_ds, epochs=10)"
      ]
    },
    {
      "cell_type": "code",
      "execution_count": null,
      "metadata": {
        "colab": {
          "background_save": true,
          "base_uri": "https://localhost:8080/",
          "height": 573
        },
        "id": "DRZlNHGj47Tu",
        "outputId": "526e5651-b112-450e-860b-4eb12a7cefc6"
      },
      "outputs": [
        {
          "data": {
            "image/png": "[encoded data removed]",
            "text/plain": [
              "<Figure size 432x288 with 1 Axes>"
            ]
          },
          "metadata": {},
          "output_type": "display_data"
        },
        {
          "data": {
            "image/png": "[encoded data removed]",
            "text/plain": [
              "<Figure size 432x288 with 1 Axes>"
            ]
          },
          "metadata": {},
          "output_type": "display_data"
        }
      ],
      "source": [
        "draw_accuracy(history)\n",
        "draw_loss(history)"
      ]
    },
    {
      "cell_type": "markdown",
      "metadata": {
        "id": "z4HKgIaA2rip"
      },
      "source": [
        "## Not pretrained model"
      ]
    },
    {
      "cell_type": "code",
      "execution_count": null,
      "metadata": {
        "id": "3oCJ9XbE2t9-"
      },
      "outputs": [],
      "source": [
        "model = keras.applications.resnet50.ResNet50(\n",
        "    include_top=True,\n",
        "    weights='imagenet',\n",
        "    input_shape=(224, 224, 3),\n",
        "    pooling=None\n",
        ")"
      ]
    },
    {
      "cell_type": "code",
      "execution_count": null,
      "metadata": {
        "id": "-7cFzv9i55Jx"
      },
      "outputs": [],
      "source": [
        "model.compile(optimizer='adam',\n",
        "              loss=keras.losses.SparseCategoricalCrossentropy(from_logits=True),\n",
        "              metrics=['accuracy'])"
      ]
    },
    {
      "cell_type": "code",
      "execution_count": null,
      "metadata": {
        "colab": {
          "base_uri": "https://localhost:8080/"
        },
        "id": "fG5miwns58ae",
        "outputId": "085de37a-3a96-4a2f-9ec2-b7745406a003"
      },
      "outputs": [
        {
          "name": "stdout",
          "output_type": "stream",
          "text": [
            "Epoch 1/10\n"
          ]
        },
        {
          "name": "stderr",
          "output_type": "stream",
          "text": [
            "/usr/local/lib/python3.7/dist-packages/tensorflow/python/util/dispatch.py:1082: UserWarning: \"`sparse_categorical_crossentropy` received `from_logits=True`, but the `output` argument was produced by a sigmoid or softmax activation and thus does not represent logits. Was this intended?\"\n",
            "  return dispatch_target(*args, **kwargs)\n"
          ]
        },
        {
          "name": "stdout",
          "output_type": "stream",
          "text": [
            "13/13 [==============================] - 19s 790ms/step - loss: 2.1577 - accuracy: 0.7122 - val_loss: 127.8670 - val_accuracy: 0.4118\n",
            "Epoch 2/10\n",
            "13/13 [==============================] - 9s 688ms/step - loss: 0.3600 - accuracy: 0.8780 - val_loss: 57.3796 - val_accuracy: 0.5686\n",
            "Epoch 3/10\n",
            "13/13 [==============================] - 9s 688ms/step - loss: 0.2523 - accuracy: 0.9244 - val_loss: 78.5712 - val_accuracy: 0.5686\n",
            "Epoch 4/10\n",
            "13/13 [==============================] - 9s 686ms/step - loss: 0.2049 - accuracy: 0.9220 - val_loss: 9.4451 - val_accuracy: 0.4314\n",
            "Epoch 5/10\n",
            "13/13 [==============================] - 9s 686ms/step - loss: 0.0798 - accuracy: 0.9707 - val_loss: 11.0515 - val_accuracy: 0.7647\n",
            "Epoch 6/10\n",
            "13/13 [==============================] - 9s 687ms/step - loss: 0.0433 - accuracy: 0.9829 - val_loss: 17.5454 - val_accuracy: 0.7451\n",
            "Epoch 7/10\n",
            "13/13 [==============================] - 9s 689ms/step - loss: 0.0356 - accuracy: 0.9854 - val_loss: 2.1148 - val_accuracy: 0.7843\n",
            "Epoch 8/10\n",
            "13/13 [==============================] - 9s 689ms/step - loss: 0.0265 - accuracy: 0.9927 - val_loss: 0.7502 - val_accuracy: 0.8627\n",
            "Epoch 9/10\n",
            "13/13 [==============================] - 9s 688ms/step - loss: 0.0177 - accuracy: 0.9951 - val_loss: 0.8171 - val_accuracy: 0.8627\n",
            "Epoch 10/10\n",
            "13/13 [==============================] - 9s 688ms/step - loss: 0.0163 - accuracy: 0.9902 - val_loss: 0.9283 - val_accuracy: 0.8627\n"
          ]
        }
      ],
      "source": [
        "history = model.fit(train_ds, validation_data=valid_ds, epochs=10)"
      ]
    },
    {
      "cell_type": "code",
      "execution_count": null,
      "metadata": {
        "colab": {
          "base_uri": "https://localhost:8080/",
          "height": 573
        },
        "id": "UWYYGecl59cn",
        "outputId": "2dcedb18-8bc2-42e8-8028-0bfe54674759"
      },
      "outputs": [
        {
          "data": {
            "image/png": "[encoded data removed]",
            "text/plain": [
              "<Figure size 432x288 with 1 Axes>"
            ]
          },
          "metadata": {},
          "output_type": "display_data"
        },
        {
          "data": {
            "image/png": "[encoded data removed]",
            "text/plain": [
              "<Figure size 432x288 with 1 Axes>"
            ]
          },
          "metadata": {},
          "output_type": "display_data"
        }
      ],
      "source": [
        "draw_accuracy(history)\n",
        "draw_loss(history)"
      ]
    },
    {
      "cell_type": "markdown",
      "metadata": {
        "id": "bP_Pto0B2uYX"
      },
      "source": [
        "## Classificator on features"
      ]
    },
    {
      "cell_type": "code",
      "execution_count": null,
      "metadata": {
        "id": "R1nsl8jZ2z8f"
      },
      "outputs": [],
      "source": [
        ""
      ]
    }
  ],
  "metadata": {
    "accelerator": "GPU",
    "colab": {
      "collapsed_sections": [
        "xxAwrGJIzN-q",
        "wNnV0Met1G_H",
        "z4HKgIaA2rip"
      ],
      "name": "Lab1.ipynb",
      "provenance": [],
      "authorship_tag": "ABX9TyOO8a1mnSGwKOVNRR05oH23",
      "include_colab_link": true
    },
    "kernelspec": {
      "display_name": "Python 3",
      "name": "python3"
    },
    "language_info": {
      "name": "python"
    }
  },
  "nbformat": 4,
  "nbformat_minor": 0
}